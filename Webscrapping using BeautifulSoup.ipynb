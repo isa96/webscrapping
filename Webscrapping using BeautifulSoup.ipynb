{
 "cells": [
  {
   "cell_type": "markdown",
   "metadata": {},
   "source": [
    "# Webscrapping using BeautifulSoup\n",
    "\n",
    "At this module we will learn on how do simple web scrapping using beautiful soup. Web scrapping is one of a method that we can use to colleting the data from internet. At this particular module, we will try to scrap Indonesian inflation rate from pusatdata.kontan.co.id, it's one of data center from indonesian economic newspaper that provide couple of useful financial information. To do this we will only use a couple default library from python and BeautifulSoup. \n",
    "\n",
    "This module is made as easy and simple as possible which can be used for new developer to learn how to webscrapping using Beautiful Soup. But to do webscrapping you will need a bit of knowlage in `html` which I'll also try to help to explain what you needed at this module, but it is always better if you understand a bit what in `html` first. You can read it quickly at [beautifulsoup](https://www.crummy.com/software/BeautifulSoup/bs4/doc) documentation. It explain what is html and what beautiful soup exactly do at it landing page. \n",
    "\n",
    "## Dependencies\n",
    "\n",
    "Actually to follow this module you only need to install beautifulsoup4 with `pip install beautifulsoup4` and you are good to go. But here some libraries that needed to be installed first that I use at bis module : \n",
    "\n",
    "- beautifulSoup4\n",
    "- pandas\n",
    "- matplotlibs\n",
    "\n",
    "## Background\n",
    "\n",
    "At this project we try to scrap Indonesian inflation rate from Kontan data center website. Kontan is a business and financial regular publication in Indonesia published by PT Grahanusa Mediatama, owned by Kompas Gramedia. We will try to scrap this sites for educational purpose only.\n",
    "\n",
    "A lot of you might ask why we need to scrap this data from the sites while it already have a good enough visualisation. Let's say we have task to make a forecast on Indonesia's inflation rate. To do that we need to have the data, and scrapping is a good way to collect the data we don't have from public. \n",
    "\n",
    "We will scrap 2 points from this sites. One is inflation rate MoM, inflation rate MoM is measures month over month change in the price of goods and services. The other one is inflation rate YoY,  measures year over year (last 12 montha) change in the price of goods and services. \n",
    "\n",
    "## What is BeautifulSoup\n",
    "\n",
    "Beautiful Soup is a Python library for pulling data out of HTML and XML files. Beautiful Soup 3 only works on Python 2.x, but Beautiful Soup 4 also works on Python 3.x. Beautiful Soup 4 is faster, has more features, and works with third-party parsers\n",
    "like lxml and html5lib.\n",
    "\n",
    "Since beautifulsoup used to pull the data out of a HTML, so first we need to pull out the html first. How we do it? We will use default library `request`. \n",
    "\n",
    "So all this code is doing is sending a GET request to spesific address we give. This is the same type of request your browser sent to view this page, but the only difference is that Requests can't actually render the HTML, so instead you will just get the raw HTML and the other response information.\n",
    "\n",
    "We're using the .get() function here, but Requests allows you to use other functions like .post() and .put() to send those requests as well. At this case we will going to the Kontan data center inflation rate page, you can click [here](https://pusatdata.kontan.co.id/makroekonomi/inflasi) to follow what exactly that link goes to. \n",
    "\n",
    "### Getting the HTML from the Webpage"
   ]
  },
  {
   "cell_type": "code",
   "execution_count": 1,
   "metadata": {},
   "outputs": [],
   "source": [
    "import requests\n",
    "\n",
    "url_get = requests.get('https://pusatdata.kontan.co.id/makroekonomi/inflasi')"
   ]
  },
  {
   "cell_type": "markdown",
   "metadata": {},
   "source": [
    "To visualize what exactly you get from the `request.get`, we can use .content so ee what we exactly get, in here i slice it so it won't make our screen full of the html we get from the page. You can delete the slicing if you want to see what we fully get."
   ]
  },
  {
   "cell_type": "code",
   "execution_count": 2,
   "metadata": {},
   "outputs": [
    {
     "data": {
      "text/plain": [
       "b'!DOCTYPE html PUBLIC \"-//W3C//DTD XHTML 1.0 Transitional//EN\" \"http://www.w3.org/TR/xhtml1/DTD/xhtml1-transitional.dtd\">\\n<html xmlns=\"http://www.w3.org/1999/xhtml\">\\n<head>\\n\\t<meta http-equiv=\"Content-Type\" content=\"text/html; charset=utf-8\" />\\n\\t<meta name=\"viewport\" content=\"width=device-width, initial-scale=1.0\">\\n    <link rel=\"shortcut icon\" href=\"//assets.kontan.co.id/favicon.ico\"/>\\n\\t<link rel=\"stylesheet\" href=\"//assets.kontan.co.id/debar/pusatdata/css/font-awesome/css/font-awesome.min.css\">'"
      ]
     },
     "execution_count": 2,
     "metadata": {},
     "output_type": "execute_result"
    }
   ],
   "source": [
    "url_get.content[1:500]"
   ]
  },
  {
   "cell_type": "markdown",
   "metadata": {},
   "source": [
    "As we can see we get a very unstructured and complex html, which actually contains the codes needed to show the webpages on your web browser. But we as human still confused what and where we can use that piece of code, so here where we use the beautifulsoup. Beautiful soup class will result a beautifulsoup object. Beautiful Soup transforms a complex HTML document into a complex tree of Python objects. But you’ll only ever have to deal with about four kinds of objects: `Tag`, `NavigableString`, `BeautifulSoup`, and `Comment`. But at this module we will only use `BeautifulSoup`."
   ]
  },
  {
   "cell_type": "code",
   "execution_count": 3,
   "metadata": {},
   "outputs": [
    {
     "name": "stdout",
     "output_type": "stream",
     "text": [
      "<class 'bs4.BeautifulSoup'>\n"
     ]
    }
   ],
   "source": [
    "from bs4 import BeautifulSoup \n",
    "\n",
    "soup = BeautifulSoup(url_get.content,\"html.parser\")\n",
    "print(type(soup))"
   ]
  },
  {
   "cell_type": "markdown",
   "metadata": {},
   "source": [
    "Let's see how our beautifulsoup looks like. As you can see, the content is the same with our `get_url` object but it's tidier. Also beautifulsoup give us method to make it even more prettier, for tidyness purpouse we slice to only see first 500 character. "
   ]
  },
  {
   "cell_type": "code",
   "execution_count": 4,
   "metadata": {},
   "outputs": [
    {
     "name": "stdout",
     "output_type": "stream",
     "text": [
      "<!DOCTYPE html PUBLIC \"-//W3C//DTD XHTML 1.0 Transitional//EN\" \"http://www.w3.org/TR/xhtml1/DTD/xhtml1-transitional.dtd\">\n",
      "<html xmlns=\"http://www.w3.org/1999/xhtml\">\n",
      " <head>\n",
      "  <meta content=\"text/html; charset=utf-8\" http-equiv=\"Content-Type\"/>\n",
      "  <meta content=\"width=device-width, initial-scale=1.0\" name=\"viewport\"/>\n",
      "  <link href=\"//assets.kontan.co.id/favicon.ico\" rel=\"shortcut icon\"/>\n",
      "  <link href=\"//assets.kontan.co.id/debar/pusatdata/css/font-awesome/css/font-awesome.min.css\" rel=\"stylesheet\n"
     ]
    }
   ],
   "source": [
    "print(soup.prettify()[:500])"
   ]
  },
  {
   "cell_type": "markdown",
   "metadata": {},
   "source": [
    "### Getting right key to extract right information\n",
    "\n",
    "Now we already have a tidier html, now we should search the lines that we want to use. Let's back to our web page first.\n",
    "\n",
    "<img src=\"asset/image1.png\">\n",
    "\n",
    "The information that we need are the month and the inflation rate each month, which contain in the table. To know which part of the code refer to that table, we can just move our cusor there, right click, and inspect element. Then we will see something like this. \n",
    "\n",
    "<img src=\"asset/image2.png\">\n",
    "\n",
    "From inspect element we know that we need to find the line table with class `baris-scroll`. We can use the find method at our beautifusoup object. Let's also call our object to see what we get. "
   ]
  },
  {
   "cell_type": "code",
   "execution_count": 5,
   "metadata": {},
   "outputs": [
    {
     "name": "stdout",
     "output_type": "stream",
     "text": [
      "div class=\"baris-scroll\">\n",
      " <div class=\"tabel-body\">\n",
      "  <div class=\"kol-konten3-1\">\n",
      "   30/06/2021\n",
      "  </div>\n",
      "  <div class=\"kol-konten3-2\">\n",
      "   <div class=\"w-30-px txtright center-max\">\n",
      "    0,16\n",
      "   </div>\n",
      "  </div>\n",
      "  <div class=\"kol-konten3-3\">\n",
      "   <div class=\"w-30-px txtright center-max\">\n",
      "    1,33\n",
      "   </div>\n",
      "  </div>\n",
      " </div>\n",
      " <div class=\"tabel-body\">\n",
      "  <div class=\"kol-konten3-1\">\n",
      "   31/05/2021\n",
      "  </div>\n",
      "  <div class=\"kol-konten3-2\">\n",
      "   <div class=\"w-30-px txtright center-max\">\n",
      "    0,32\n",
      "   </div>\n",
      "  </div\n"
     ]
    }
   ],
   "source": [
    "table = soup.find('div', attrs={'class':'baris-scroll'})\n",
    "print(table.prettify()[1:500])"
   ]
  },
  {
   "cell_type": "markdown",
   "metadata": {},
   "source": [
    "As we can see from the line we just extract, we get all the content we needed. As for what is div, The `div` tag defines a division or a section in an HTML document. It is easily styled by using the class or id attribute, Any sort of content can be put inside the `div` tag. \n",
    "    \n",
    "The `find()` function can help you to get you the part of the html code that you needed. While most of the html is contained in `div` you can differsiate them with help of `attrs=`, you can insert anything that in the `div` a the attrs to help you find the part you needed. \n",
    "\n",
    "Now, we need to get 3 information, that is the period of time, the inflation MoM, and the inflation YoY. Which you can read from above code, period is contained within `div` with \"kol-konten3-1\", inflation MoM in \"kol-konten3-2\", and inflation YoY in \"kol-konten3-3\". \n",
    "    \n",
    "Now I will introduce you to other useful function from beautiful soup, that's `find_all`. While the `find` fuction method is used for finding out the **first tag** with the specified name or id and returning an object of type bs4. The find_all method is used for finding out **all tags** with the specified tag name or id and returning them as a list of type bs4.\n",
    "\n",
    "For example I'll try to extract the first 5 data of date information from the html. You can use slicer to help you."
   ]
  },
  {
   "cell_type": "code",
   "execution_count": 6,
   "metadata": {},
   "outputs": [
    {
     "data": {
      "text/plain": [
       "[<div class=\"kol-konten3-1\">30/06/2021</div>,\n",
       " <div class=\"kol-konten3-1\">31/05/2021</div>,\n",
       " <div class=\"kol-konten3-1\">30/04/2021</div>,\n",
       " <div class=\"kol-konten3-1\">31/03/2021</div>,\n",
       " <div class=\"kol-konten3-1\">28/02/2021</div>]"
      ]
     },
     "execution_count": 6,
     "metadata": {},
     "output_type": "execute_result"
    }
   ],
   "source": [
    "table.find_all('div', attrs={'class':'kol-konten3-1'})[:5]"
   ]
  },
  {
   "cell_type": "markdown",
   "metadata": {},
   "source": [
    "As you can see get already get the necessary key to extract all needed data. To get the only text information you can add `.text`. Remember you need to only get one information before you use `.text` otherwise it will return error. Here is the example on how you use `.text`. "
   ]
  },
  {
   "cell_type": "code",
   "execution_count": 7,
   "metadata": {},
   "outputs": [
    {
     "data": {
      "text/plain": [
       "'30/06/2021'"
      ]
     },
     "execution_count": 7,
     "metadata": {},
     "output_type": "execute_result"
    }
   ],
   "source": [
    "table.find_all('div', attrs={'class':'kol-konten3-1'})[0].text"
   ]
  },
  {
   "cell_type": "markdown",
   "metadata": {},
   "source": [
    "### Extracting the Information\n",
    "\n",
    "Now all the `beautiful soup` part is over. All left to do is doing some programming to extract all the data automaticly, you can do this manualy at this part but if your data too long I advice you use loop. I'll show you how to make looping for extracting the data, but before that let's check how long is our data to help our looping process. Since `find_all` will always return data in format list, we will use `len()` to check how long is our list."
   ]
  },
  {
   "cell_type": "code",
   "execution_count": 8,
   "metadata": {},
   "outputs": [
    {
     "data": {
      "text/plain": [
       "50"
      ]
     },
     "execution_count": 8,
     "metadata": {},
     "output_type": "execute_result"
    }
   ],
   "source": [
    "row = table.find_all('div', attrs={'class':'kol-konten3-1'})\n",
    "row_length = len(row)\n",
    "row_length"
   ]
  },
  {
   "cell_type": "markdown",
   "metadata": {},
   "source": [
    "Okay, okay now we know the length of our data, now here what we will do for the looping process. \n",
    "\n",
    "Here what the looping do to scrap the information: \n",
    "\n",
    "- First we need to establish a placeholder to receive the information that we scrap. \n",
    "- We named our placeholder `temp` and it's a list. \n",
    "- Then we will make a loop from one until the the length of the table row, \n",
    "- which we will find all cell of the column one and two which contain period and the inflation rate. \n",
    "- Then we will append it to our tuple that we prepared before, \n",
    "- every one iteration we will scrap one line of the table.  "
   ]
  },
  {
   "cell_type": "code",
   "execution_count": 9,
   "metadata": {},
   "outputs": [
    {
     "data": {
      "text/plain": [
       "[('31/05/2021', '0,32', '1,68'),\n",
       " ('30/04/2021', '0,13', '1,42'),\n",
       " ('31/03/2021', '0,08', '1,37'),\n",
       " ('28/02/2021', '0,10', '1.38'),\n",
       " ('31/01/2021', '0,26', '1.55'),\n",
       " ('31/12/2020', '0,45', '1.68'),\n",
       " ('30/11/2020', '0,28', '1.59'),\n",
       " ('31/10/2020', '0,07', '1.44'),\n",
       " ('30/09/2020', '0,05', '1,42'),\n",
       " ('31/08/2020', '0.05', '1.32'),\n",
       " ('31/07/2020', '0.04', '1.54'),\n",
       " ('30/06/2020', '0.18', '1.96'),\n",
       " ('31/05/2020', '0,07', '2,19'),\n",
       " ('30/04/2020', '0,08', '2,67'),\n",
       " ('31/03/2020', '0.10', '2.96'),\n",
       " ('28/02/2020', '0,28', '2,98'),\n",
       " ('31/01/2020', '0,39', '2,68'),\n",
       " ('31/12/2019', '0,34', '2,27'),\n",
       " ('30/11/2019', '0,14', '3'),\n",
       " ('31/10/2019', '0,02', '2,22'),\n",
       " ('30/09/2019', '-0,27', '3,39'),\n",
       " ('31/08/2019', '0,12', '3,49'),\n",
       " ('31/07/2019', '0,31', '3,32'),\n",
       " ('30/06/2019', '0,55', '3,28'),\n",
       " ('31/05/2019', '0,68', '3,32'),\n",
       " ('30/04/2019', '0,44', '2,83'),\n",
       " ('31/03/2019', '0,11', '2,48'),\n",
       " ('28/02/2019', '-0,08', '2,57'),\n",
       " ('31/01/2019', '0,32', '2,82'),\n",
       " ('31/12/2018', '0,62', '3,13'),\n",
       " ('30/11/2018', '0,27', '3,23'),\n",
       " ('31/10/2018', '0,28', '3,16'),\n",
       " ('30/09/2018', '-0,18', '2,88'),\n",
       " ('31/08/2018', '-0,05', '3,20'),\n",
       " ('31/07/2018', '0,28', '3,18'),\n",
       " ('30/06/2018', '0,59', '3,12'),\n",
       " ('31/05/2018', '0,21', '2,75'),\n",
       " ('30/04/2018', '0,10', '3,41'),\n",
       " ('29/03/2018', '0,20', '3,4'),\n",
       " ('28/02/2018', '0,17', '3,18'),\n",
       " ('31/01/2018', '0,62', '3,25'),\n",
       " ('31/12/2017', '0,61', '3,5'),\n",
       " ('30/11/2017', '0,20', '3,30'),\n",
       " ('31/10/2017', '0,01', '3,58'),\n",
       " ('30/09/2017', '0,13', '3,72'),\n",
       " ('31/08/2017', '0,07', '3,82'),\n",
       " ('31/07/2017', '0,22', '3,88'),\n",
       " ('30/06/2017', '0,69', '4,37'),\n",
       " ('31/05/2017', '0,39', '4,33')]"
      ]
     },
     "execution_count": 9,
     "metadata": {},
     "output_type": "execute_result"
    }
   ],
   "source": [
    "temp = [] #init\n",
    "\n",
    "for i in range(1, row_length):\n",
    "    \n",
    "    #get period \n",
    "    period = table.find_all('div', attrs={'class':'kol-konten3-1'})[i].text\n",
    "    \n",
    "    #get inflation mom\n",
    "    inflation_mom = table.find_all('div', attrs={'class':'kol-konten3-2'})[i].text\n",
    "    inflation_mom = inflation_mom.strip() #to remove excess white space\n",
    "    \n",
    "    #get inflation yoy\n",
    "    inflation_yoy = table.find_all('div', attrs={'class':'kol-konten3-3'})[i].text\n",
    "    inflation_yoy = inflation_yoy.strip() #to remove excess white space\n",
    "    \n",
    "    temp.append((period,inflation_mom,inflation_yoy)) \n",
    "    \n",
    "temp "
   ]
  },
  {
   "cell_type": "markdown",
   "metadata": {},
   "source": [
    "That the result we get, At this point we can input it to a pandas' DataFrame and do usual data analysis, but if you notice the original webpage give us reversed information. To do a further analysis let's reverse our list we can use `::-1` to do that. "
   ]
  },
  {
   "cell_type": "code",
   "execution_count": 10,
   "metadata": {},
   "outputs": [
    {
     "data": {
      "text/plain": [
       "[('31/05/2017', '0,39', '4,33'),\n",
       " ('30/06/2017', '0,69', '4,37'),\n",
       " ('31/07/2017', '0,22', '3,88'),\n",
       " ('31/08/2017', '0,07', '3,82'),\n",
       " ('30/09/2017', '0,13', '3,72'),\n",
       " ('31/10/2017', '0,01', '3,58'),\n",
       " ('30/11/2017', '0,20', '3,30'),\n",
       " ('31/12/2017', '0,61', '3,5'),\n",
       " ('31/01/2018', '0,62', '3,25'),\n",
       " ('28/02/2018', '0,17', '3,18'),\n",
       " ('29/03/2018', '0,20', '3,4'),\n",
       " ('30/04/2018', '0,10', '3,41'),\n",
       " ('31/05/2018', '0,21', '2,75'),\n",
       " ('30/06/2018', '0,59', '3,12'),\n",
       " ('31/07/2018', '0,28', '3,18'),\n",
       " ('31/08/2018', '-0,05', '3,20'),\n",
       " ('30/09/2018', '-0,18', '2,88'),\n",
       " ('31/10/2018', '0,28', '3,16'),\n",
       " ('30/11/2018', '0,27', '3,23'),\n",
       " ('31/12/2018', '0,62', '3,13'),\n",
       " ('31/01/2019', '0,32', '2,82'),\n",
       " ('28/02/2019', '-0,08', '2,57'),\n",
       " ('31/03/2019', '0,11', '2,48'),\n",
       " ('30/04/2019', '0,44', '2,83'),\n",
       " ('31/05/2019', '0,68', '3,32'),\n",
       " ('30/06/2019', '0,55', '3,28'),\n",
       " ('31/07/2019', '0,31', '3,32'),\n",
       " ('31/08/2019', '0,12', '3,49'),\n",
       " ('30/09/2019', '-0,27', '3,39'),\n",
       " ('31/10/2019', '0,02', '2,22'),\n",
       " ('30/11/2019', '0,14', '3'),\n",
       " ('31/12/2019', '0,34', '2,27'),\n",
       " ('31/01/2020', '0,39', '2,68'),\n",
       " ('28/02/2020', '0,28', '2,98'),\n",
       " ('31/03/2020', '0.10', '2.96'),\n",
       " ('30/04/2020', '0,08', '2,67'),\n",
       " ('31/05/2020', '0,07', '2,19'),\n",
       " ('30/06/2020', '0.18', '1.96'),\n",
       " ('31/07/2020', '0.04', '1.54'),\n",
       " ('31/08/2020', '0.05', '1.32'),\n",
       " ('30/09/2020', '0,05', '1,42'),\n",
       " ('31/10/2020', '0,07', '1.44'),\n",
       " ('30/11/2020', '0,28', '1.59'),\n",
       " ('31/12/2020', '0,45', '1.68'),\n",
       " ('31/01/2021', '0,26', '1.55'),\n",
       " ('28/02/2021', '0,10', '1.38'),\n",
       " ('31/03/2021', '0,08', '1,37'),\n",
       " ('30/04/2021', '0,13', '1,42'),\n",
       " ('31/05/2021', '0,32', '1,68')]"
      ]
     },
     "execution_count": 10,
     "metadata": {},
     "output_type": "execute_result"
    }
   ],
   "source": [
    "temp = temp[::-1]\n",
    "temp"
   ]
  },
  {
   "cell_type": "markdown",
   "metadata": {},
   "source": [
    "Then after we fix our list a bit, as usual we will input it to pandas' dataframe.\n",
    "\n",
    "### Creating Pandas Dataframe and Data Wrangling "
   ]
  },
  {
   "cell_type": "code",
   "execution_count": 11,
   "metadata": {},
   "outputs": [
    {
     "data": {
      "text/html": [
       "<div>\n",
       "<style scoped>\n",
       "    .dataframe tbody tr th:only-of-type {\n",
       "        vertical-align: middle;\n",
       "    }\n",
       "\n",
       "    .dataframe tbody tr th {\n",
       "        vertical-align: top;\n",
       "    }\n",
       "\n",
       "    .dataframe thead th {\n",
       "        text-align: right;\n",
       "    }\n",
       "</style>\n",
       "<table border=\"1\" class=\"dataframe\">\n",
       "  <thead>\n",
       "    <tr style=\"text-align: right;\">\n",
       "      <th></th>\n",
       "      <th>period</th>\n",
       "      <th>inflation_mom</th>\n",
       "      <th>inflation_yoy</th>\n",
       "    </tr>\n",
       "  </thead>\n",
       "  <tbody>\n",
       "    <tr>\n",
       "      <th>0</th>\n",
       "      <td>31/05/2017</td>\n",
       "      <td>0,39</td>\n",
       "      <td>4,33</td>\n",
       "    </tr>\n",
       "    <tr>\n",
       "      <th>1</th>\n",
       "      <td>30/06/2017</td>\n",
       "      <td>0,69</td>\n",
       "      <td>4,37</td>\n",
       "    </tr>\n",
       "    <tr>\n",
       "      <th>2</th>\n",
       "      <td>31/07/2017</td>\n",
       "      <td>0,22</td>\n",
       "      <td>3,88</td>\n",
       "    </tr>\n",
       "    <tr>\n",
       "      <th>3</th>\n",
       "      <td>31/08/2017</td>\n",
       "      <td>0,07</td>\n",
       "      <td>3,82</td>\n",
       "    </tr>\n",
       "    <tr>\n",
       "      <th>4</th>\n",
       "      <td>30/09/2017</td>\n",
       "      <td>0,13</td>\n",
       "      <td>3,72</td>\n",
       "    </tr>\n",
       "  </tbody>\n",
       "</table>\n",
       "</div>"
      ],
      "text/plain": [
       "       period inflation_mom inflation_yoy\n",
       "0  31/05/2017          0,39          4,33\n",
       "1  30/06/2017          0,69          4,37\n",
       "2  31/07/2017          0,22          3,88\n",
       "3  31/08/2017          0,07          3,82\n",
       "4  30/09/2017          0,13          3,72"
      ]
     },
     "execution_count": 11,
     "metadata": {},
     "output_type": "execute_result"
    }
   ],
   "source": [
    "import pandas as pd\n",
    "\n",
    "df = pd.DataFrame(temp, columns = ('period','inflation_mom','inflation_yoy'))\n",
    "df.head()"
   ]
  },
  {
   "cell_type": "markdown",
   "metadata": {},
   "source": [
    "Let's check our dataframe data types to see if our data is useable. "
   ]
  },
  {
   "cell_type": "code",
   "execution_count": 12,
   "metadata": {},
   "outputs": [
    {
     "data": {
      "text/plain": [
       "period           object\n",
       "inflation_mom    object\n",
       "inflation_yoy    object\n",
       "dtype: object"
      ]
     },
     "execution_count": 12,
     "metadata": {},
     "output_type": "execute_result"
    }
   ],
   "source": [
    "df.dtypes"
   ]
  },
  {
   "cell_type": "markdown",
   "metadata": {},
   "source": [
    "Usual stuff, we can clean the data or save it to csv let's do a bit cleaning so we can do a bit of visualisation. We will change the inflation to float datatype, but before we can do that we need to change the \",\" to \".\" first. To do this we can use the help of `str.replace()`. Then lastly let's fix our period data type."
   ]
  },
  {
   "cell_type": "code",
   "execution_count": 13,
   "metadata": {},
   "outputs": [
    {
     "data": {
      "text/plain": [
       "period           datetime64[ns]\n",
       "inflation_mom           float64\n",
       "inflation_yoy           float64\n",
       "dtype: object"
      ]
     },
     "execution_count": 13,
     "metadata": {},
     "output_type": "execute_result"
    }
   ],
   "source": [
    "df['inflation_mom'] = df['inflation_mom'].str.replace(\",\",\".\")\n",
    "df['inflation_mom'] = df['inflation_mom'].astype('float64')\n",
    "df['inflation_yoy'] = df['inflation_yoy'].str.replace(\",\",\".\")\n",
    "df['inflation_yoy'] = df['inflation_yoy'].astype('float64')\n",
    "df['period'] = df['period'].astype('datetime64[ns]')\n",
    "\n",
    "df.dtypes"
   ]
  },
  {
   "cell_type": "markdown",
   "metadata": {},
   "source": [
    "To make our plot behave like we want, we need to set our index of our dataframe to our time coloumn. We can use `set_index()` "
   ]
  },
  {
   "cell_type": "code",
   "execution_count": 14,
   "metadata": {},
   "outputs": [],
   "source": [
    "df = df.set_index('period')"
   ]
  },
  {
   "cell_type": "markdown",
   "metadata": {},
   "source": [
    "And done, We can do our simple visualisation to put the cherry on top."
   ]
  },
  {
   "cell_type": "code",
   "execution_count": 15,
   "metadata": {},
   "outputs": [
    {
     "data": {
      "text/plain": [
       "<AxesSubplot:xlabel='period'>"
      ]
     },
     "execution_count": 15,
     "metadata": {},
     "output_type": "execute_result"
    },
    {
     "data": {
      "image/png": "[encoded data removed]",
      "text/plain": [
       "<Figure size 432x288 with 1 Axes>"
      ]
     },
     "metadata": {
      "needs_background": "light"
     },
     "output_type": "display_data"
    }
   ],
   "source": [
    "df.plot()"
   ]
  },
  {
   "cell_type": "markdown",
   "metadata": {},
   "source": [
    "We already finish our web scrapping job, now we have all the data we need and we can move on to the next part of the project using pandas usual. In conclusion when you don't have a direct access to a data from a website you can always do the scrapping method. There is a couple library that can do same task like `scrapy` that can build bot to automaticly crawl data, but we choose beautiful soup since it's more beginner friendly and a helpful utility that allows a programmer to get specific elements out of a webpage (for example, a list of images). \n",
    "\n",
    "After this you also can implement the scrapping to one function and put it at the flask webapp, which you can find the demo [here](https://github.com/t3981-h/LikesRatio) and you can go to inflation branch to see example that scrap a same page or you can visit [Pricemate](https://github.com/onlyphantom/pricemate). Which scrap tiket.com data to get train price list. I hope this short module help you to understand and can kickstart you to learn more about webscrapping using Beautifulsoup. Also feel free to contact us at mentor@algorit.ma if you have more question.\n",
    "\n",
    "Happy learning~"
   ]
  }
 ],
 "metadata": {
  "kernelspec": {
   "display_name": "Python (myenv)",
   "language": "python",
   "name": "myenv"
  },
  "language_info": {
   "codemirror_mode": {
    "name": "ipython",
    "version": 3
   },
   "file_extension": ".py",
   "mimetype": "text/x-python",
   "name": "python",
   "nbconvert_exporter": "python",
   "pygments_lexer": "ipython3",
   "version": "3.8.8"
  }
 },
 "nbformat": 4,
 "nbformat_minor": 2
}
